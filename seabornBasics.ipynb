{
 "cells": [
  {
   "cell_type": "markdown",
   "id": "24bca26d",
   "metadata": {},
   "source": [
    "# WORKING WITH SEABORN "
   ]
  },
  {
   "cell_type": "code",
   "execution_count": null,
   "id": "1e525d8f",
   "metadata": {},
   "outputs": [],
   "source": [
    "import seaborn as sns\n",
    "import pandas as pd"
   ]
  },
  {
   "cell_type": "code",
   "execution_count": null,
   "id": "369489ba",
   "metadata": {},
   "outputs": [],
   "source": [
    "#Apply default theme \n",
    "sns.set_theme()"
   ]
  },
  {
   "cell_type": "code",
   "execution_count": null,
   "id": "b248495c",
   "metadata": {},
   "outputs": [],
   "source": [
    "# Load an example dataset\n",
    "tips = sns.load_dataset(\"tips\")\n",
    "#this dataset is provided by seaborn lib, if we want our own dataset we have to use pandas"
   ]
  },
  {
   "cell_type": "code",
   "execution_count": null,
   "id": "d2823dc7",
   "metadata": {},
   "outputs": [],
   "source": [
    "tips.head()"
   ]
  },
  {
   "cell_type": "code",
   "execution_count": null,
   "id": "69095ffa",
   "metadata": {},
   "outputs": [],
   "source": [
    "tips.describe()"
   ]
  },
  {
   "cell_type": "code",
   "execution_count": null,
   "id": "8c73a1cf",
   "metadata": {},
   "outputs": [],
   "source": [
    "# ERROR !!\n",
    "sns.lmplot(x=\"sex\", y=\"tip\", data=tips)\n",
    "#This will give an error !\n",
    "# Because sex is String we need numerical values"
   ]
  },
  {
   "cell_type": "markdown",
   "id": "222baecf",
   "metadata": {},
   "source": [
    "## Convert Gender (string) to numerical value"
   ]
  },
  {
   "cell_type": "code",
   "execution_count": null,
   "id": "c02288f0",
   "metadata": {},
   "outputs": [],
   "source": [
    "# Data of Gender is converted into Binary Data\n",
    "df_one = pd.get_dummies(tips[\"sex\"])"
   ]
  },
  {
   "cell_type": "code",
   "execution_count": null,
   "id": "424efcc4",
   "metadata": {},
   "outputs": [],
   "source": [
    "df_one"
   ]
  },
  {
   "cell_type": "code",
   "execution_count": null,
   "id": "eb57a84b",
   "metadata": {},
   "outputs": [],
   "source": [
    "# Binary Data is Concatenated into tips dataset\n",
    "df_two = pd.concat((df_one, tips), axis=1)\n"
   ]
  },
  {
   "cell_type": "code",
   "execution_count": null,
   "id": "f3b4d914",
   "metadata": {},
   "outputs": [],
   "source": [
    "df_two"
   ]
  },
  {
   "cell_type": "code",
   "execution_count": null,
   "id": "d2cbc2c4",
   "metadata": {},
   "outputs": [],
   "source": [
    "# SEX column is droped\n",
    "df_two = df_two.drop([\"sex\"], axis=1)"
   ]
  },
  {
   "cell_type": "code",
   "execution_count": null,
   "id": "537ec996",
   "metadata": {},
   "outputs": [],
   "source": [
    "# We want Male =0 and Female =1 So we drop Male column here\n",
    "df_two = df_two.drop([\"Male\"], axis=1)"
   ]
  },
  {
   "cell_type": "code",
   "execution_count": null,
   "id": "fbd13844",
   "metadata": {},
   "outputs": [],
   "source": [
    "# Rename the Column\n",
    "tips = df_two.rename(columns={\"Female\": \"Gender\"})"
   ]
  },
  {
   "cell_type": "code",
   "execution_count": null,
   "id": "93f19c25",
   "metadata": {
    "scrolled": true
   },
   "outputs": [],
   "source": [
    "tips\n"
   ]
  },
  {
   "cell_type": "code",
   "execution_count": null,
   "id": "83d40482",
   "metadata": {},
   "outputs": [],
   "source": [
    "sns.regplot(x='total_bill', y='tip', data=tips,marker='+')\n",
    "#used to plot data and a linear regression model fit. \n",
    "#There are a number of mutually exclusive options for estimating the regression model."
   ]
  },
  {
   "cell_type": "code",
   "execution_count": null,
   "id": "83980002",
   "metadata": {},
   "outputs": [],
   "source": [
    "sns.stripplot(x=\"day\", y=\"total_bill\",data=tips)\n",
    "# draw a scatter plot based on the category.\n"
   ]
  },
  {
   "cell_type": "code",
   "execution_count": null,
   "id": "ba05a4fc",
   "metadata": {},
   "outputs": [],
   "source": [
    "sns.swarmplot(x=\"day\", y=\"total_bill\",data=tips)\n",
    "\n",
    "# This is very much similar to stripplot but the only difference\n",
    "# is that it does not allow overlapping of markers. \n",
    "# It causes jittering in the markers of the plot so that graph can easily be read \n",
    "# without information loss"
   ]
  },
  {
   "cell_type": "code",
   "execution_count": null,
   "id": "2bb6243f",
   "metadata": {},
   "outputs": [],
   "source": [
    "sns.barplot(x=\"Gender\", y=\"tip\",data=tips)\n",
    "#  categorical column for the x-axis \n",
    "#  numerical column for the y-axis"
   ]
  },
  {
   "cell_type": "code",
   "execution_count": null,
   "id": "f771e99c",
   "metadata": {},
   "outputs": [],
   "source": [
    "sns.countplot(x ='Gender', data = tips)"
   ]
  },
  {
   "cell_type": "code",
   "execution_count": null,
   "id": "78ce8733",
   "metadata": {},
   "outputs": [],
   "source": [
    "sns.boxplot(x='day', y='total_bill', data=tips, hue='smoker')\n",
    "# x takes the categorical column and\n",
    "# y is a numerical column.\n",
    "# ” hue” parameter is used to further add a categorical separation. \n",
    "# By looking at the plot we can say that the people \n",
    "# who do not smoke had a higher bill on Friday as compared to the people who smoked."
   ]
  },
  {
   "cell_type": "code",
   "execution_count": null,
   "id": "fee389b1",
   "metadata": {},
   "outputs": [],
   "source": [
    "sns.boxplot(x='day', y='total_bill', data=tips)"
   ]
  },
  {
   "cell_type": "code",
   "execution_count": null,
   "id": "828633c4",
   "metadata": {},
   "outputs": [],
   "source": [
    "# It is similar to the boxplot except that it provides a higher, \n",
    "# more advanced visualization and\n",
    "# uses the \" kernel density estimation \"\n",
    "# to give a better description about the data distribution.\n",
    "sns.violinplot(x='day', y='total_bill', data=tips,\n",
    "               hue='Gender', split=True)"
   ]
  },
  {
   "cell_type": "code",
   "execution_count": null,
   "id": "9ecf3a7b",
   "metadata": {},
   "outputs": [],
   "source": [
    "sns.scatterplot(x=\"total_bill\",y=\"tip\",data=tips, marker = '+')"
   ]
  },
  {
   "cell_type": "code",
   "execution_count": null,
   "id": "f3265726",
   "metadata": {},
   "outputs": [],
   "source": [
    "sns.scatterplot(x=\"day\",y=\"tip\",data=tips, marker = '+',hue=\"time\", palette='pastel')"
   ]
  },
  {
   "cell_type": "code",
   "execution_count": null,
   "id": "8de35956",
   "metadata": {},
   "outputs": [],
   "source": [
    "sns.relplot(x =\"total_bill\", y =\"tip\",data = tips,hue =\"day\",marker = '+')"
   ]
  },
  {
   "cell_type": "code",
   "execution_count": null,
   "id": "4b0a38f4",
   "metadata": {},
   "outputs": [],
   "source": [
    "sns.lmplot(x = \"tip\",y = \"total_bill\", ci = None,data = tips)\n",
    "# It shows a line representing a linear regression model along with data points \n",
    "# on the 2D-space and x and y can be set as the horizontal \n",
    "# and vertical labels respectively."
   ]
  },
  {
   "cell_type": "code",
   "execution_count": null,
   "id": "cf2801d4",
   "metadata": {},
   "outputs": [],
   "source": [
    "sns.jointplot(data=tips, x=\"total_bill\", y=\"tip\",marker='+')"
   ]
  },
  {
   "cell_type": "code",
   "execution_count": null,
   "id": "a04795c7",
   "metadata": {},
   "outputs": [],
   "source": [
    "sns.jointplot(data=tips, x=\"total_bill\", y=\"tip\", kind=\"reg\", marker=\"+\")\n",
    "#Using kind=”reg” attribute you can add a linear regression fit and univariate KDE curves"
   ]
  },
  {
   "cell_type": "code",
   "execution_count": null,
   "id": "200400b0",
   "metadata": {},
   "outputs": [],
   "source": [
    "sns.jointplot(data=tips, x=\"total_bill\", y=\"tip\", hue=\"time\",marker='+')"
   ]
  },
  {
   "cell_type": "code",
   "execution_count": null,
   "id": "826be2ea",
   "metadata": {},
   "outputs": [],
   "source": [
    "sns.kdeplot(data=tips, x=\"total_bill\",bw_adjust=1)\n",
    "#bw_adjust = for bandwith change\n",
    "#Less bandwith more peaks ,\n",
    "#More bandwith smooth curve \n",
    "#probability density function"
   ]
  },
  {
   "cell_type": "code",
   "execution_count": null,
   "id": "2cc7238a",
   "metadata": {},
   "outputs": [],
   "source": [
    "sns.kdeplot(data=tips, x=\"total_bill\",cumulative=True)\n",
    "#KDE represents the data using a continuous probability density curve.\n"
   ]
  },
  {
   "cell_type": "code",
   "execution_count": null,
   "id": "59d2523e",
   "metadata": {},
   "outputs": [],
   "source": [
    "sns.kdeplot(data=tips, x=\"total_bill\",y=\"tip\",n_levels=20,cbar=True)\n",
    "#bivariate plot"
   ]
  },
  {
   "cell_type": "code",
   "execution_count": null,
   "id": "c37db0f0",
   "metadata": {},
   "outputs": [],
   "source": [
    "sns.lineplot(x=\"day\", y=\"total_bill\", data=tips, hue=\"Gender\")"
   ]
  },
  {
   "cell_type": "code",
   "execution_count": null,
   "id": "bea71933",
   "metadata": {},
   "outputs": [],
   "source": [
    "sns.pairplot(tips, hue ='Gender')"
   ]
  },
  {
   "cell_type": "code",
   "execution_count": null,
   "id": "a641ef3f",
   "metadata": {},
   "outputs": [],
   "source": [
    "sns.heatmap(tips.corr(), center=0, cmap='BrBG', annot=True)\n",
    "# Lets you know the coorealtion \n",
    "# total_bill and gender have very less coorelation\n",
    "# while tip and total bill are corealted\n",
    "#As parameter it takes a 2D dataset. That dataset can be coerced into an ndarray."
   ]
  },
  {
   "cell_type": "code",
   "execution_count": null,
   "id": "c2efd837",
   "metadata": {},
   "outputs": [],
   "source": [
    "fg = sns.FacetGrid(tips, col=\"time\",  row=\"Gender\")\n",
    "fg.map(sns.scatterplot, \"total_bill\", \"tip\")"
   ]
  },
  {
   "cell_type": "code",
   "execution_count": null,
   "id": "f9b84002",
   "metadata": {},
   "outputs": [],
   "source": [
    "fg = sns.FacetGrid(tips, col=\"day\")\n",
    "fg.map(sns.histplot, \"total_bill\")"
   ]
  },
  {
   "cell_type": "markdown",
   "id": "b5624ea5",
   "metadata": {},
   "source": [
    "regplot() performs a simple linear regression model fit and plot. \n",
    "lmplot() combines regplot() and FacetGrid.\n"
   ]
  },
  {
   "cell_type": "code",
   "execution_count": null,
   "id": "4d82c822",
   "metadata": {},
   "outputs": [],
   "source": [
    "sns.lmplot(x=\"total_bill\", y=\"tip\", hue=\"smoker\", data=tips,markers=[\"+\",\"*\"])"
   ]
  }
 ],
 "metadata": {
  "kernelspec": {
   "display_name": "Python 3",
   "language": "python",
   "name": "python3"
  },
  "language_info": {
   "codemirror_mode": {
    "name": "ipython",
    "version": 3
   },
   "file_extension": ".py",
   "mimetype": "text/x-python",
   "name": "python",
   "nbconvert_exporter": "python",
   "pygments_lexer": "ipython3",
   "version": "3.9.2"
  }
 },
 "nbformat": 4,
 "nbformat_minor": 5
}
